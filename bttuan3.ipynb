{
 "cells": [
  {
   "cell_type": "code",
   "execution_count": 1,
   "id": "f0d43777-db1e-4e0f-8a92-a0964f192700",
   "metadata": {
    "scrolled": true
   },
   "outputs": [
    {
     "name": "stdin",
     "output_type": "stream",
     "text": [
      " 3\n"
     ]
    },
    {
     "name": "stdout",
     "output_type": "stream",
     "text": [
      "khong phai la luy thua cua 2\n"
     ]
    }
   ],
   "source": [
    "#W3A3\n",
    "n = int(input())\n",
    "if n%2==0:\n",
    "    print(\"la luy thua cua 2\")\n",
    "else :\n",
    "    print(\"khong phai la luy thua cua 2\")"
   ]
  },
  {
   "cell_type": "code",
   "execution_count": 2,
   "id": "e21f09e6-93ff-451c-848e-edaf455acd9b",
   "metadata": {},
   "outputs": [
    {
     "name": "stdin",
     "output_type": "stream",
     "text": [
      " 3\n",
      " 4\n"
     ]
    },
    {
     "name": "stdout",
     "output_type": "stream",
     "text": [
      "0\n"
     ]
    }
   ],
   "source": [
    "#W3A4\n",
    "m = float(input())\n",
    "n = float(input())\n",
    "x = m/n \n",
    "print(int(x))#co the dung print(math.floor(x))"
   ]
  },
  {
   "cell_type": "code",
   "execution_count": null,
   "id": "dba015b7-5a6a-4ff4-bcd4-650c43aad30a",
   "metadata": {},
   "outputs": [],
   "source": [
    "#W3A5\n",
    "m = float(input())\n",
    "n = float(input())\n",
    "x = m/n \n",
    "print(math.ceil(x))"
   ]
  },
  {
   "cell_type": "code",
   "execution_count": null,
   "id": "f46f4c64-0251-4ce5-9c3e-cfe8ca43e9a7",
   "metadata": {},
   "outputs": [],
   "source": [
    "#W3A6\n",
    "x = int(input(\"nhap vao mot so nguyen duong:\"))\n",
    "if x%2==0:\n",
    "    print(\"x la so chan\")\n",
    "else:\n",
    "    print(\"x la so le\")"
   ]
  },
  {
   "cell_type": "code",
   "execution_count": null,
   "id": "3e312002-40fe-4f4a-83f9-4e1895cfc16b",
   "metadata": {},
   "outputs": [],
   "source": [
    "#W3A7\n",
    "a,b = map(int, input(\"nhap so nguyen:\").split()))\n",
    "if a<0,b<0:\n",
    "  print(\"Yes\")\n",
    "else :\n",
    "  print(\"No\")"
   ]
  },
  {
   "cell_type": "code",
   "execution_count": null,
   "id": "3c0109f2-f388-4bfa-990b-57cfbcbd5cf4",
   "metadata": {},
   "outputs": [],
   "source": [
    "#W3A8\n",
    "a,b = input(\"nhap chuoi cac chu cai\")\n",
    "if a>b :\n",
    "    print(\"True\")\n",
    "else:\n",
    "    print(\"False\")"
   ]
  },
  {
   "cell_type": "code",
   "execution_count": null,
   "id": "855f2988-e0bb-4624-8669-471ee9417712",
   "metadata": {},
   "outputs": [],
   "source": [
    "#W3A9\n",
    "a,b,c = map(int,input(\"nhap so nguyen duong:\").split())\n",
    "if a+b>c,a+c>b,b+c>a:\n",
    "  print(\"Yes\")\n",
    "else :\n",
    "print(\"No\")"
   ]
  },
  {
   "cell_type": "code",
   "execution_count": null,
   "id": "690810cd-0d1b-41d8-b771-25c15c444514",
   "metadata": {},
   "outputs": [],
   "source": [
    "#W3A10\n",
    "a,b,c,d =list(map(int, input(\"nhap so nguyen\").split()))\n",
    "print(\"so lon nhat la:\", max(a,b,c,d))\n",
    "    "
   ]
  },
  {
   "cell_type": "code",
   "execution_count": null,
   "id": "ea48274e-fa8a-437a-902e-090e28411044",
   "metadata": {},
   "outputs": [],
   "source": [
    "#W3A11\n",
    "a,b,c = map(int, input(\"nhap so nguyen duong\").split())\n",
    "  if a+b>c and a+c>b and b+c>a:\n",
    "     if (a**2 == b**2 + c**2) or (b**2 == a**2 + c**) or (c**2 == a**2 + b**2):\n",
    "         print(\"tam giac vuong\")\n",
    "     if a == b == c:\n",
    "         print(\"tam giac can\")\n",
    "     else:\n",
    "         print(\"tam giac thuong\")\n",
    "else:\n",
    "    print(\"khong phai tam giac\")"
   ]
  },
  {
   "cell_type": "code",
   "execution_count": null,
   "id": "403f98c9-7882-4c35-8958-3cfba6de8480",
   "metadata": {},
   "outputs": [],
   "source": [
    "#W3A12\n",
    "n = int(input(\"nhap vao so nam:\"))\n",
    "if (n%4==0 and n%100>0) or n%400==0:\n",
    "    print(\"Yes\")\n",
    "else:\n",
    "    print(\"No\") "
   ]
  },
  {
   "cell_type": "code",
   "execution_count": null,
   "id": "5ddd3cad-0781-4d1f-a7f9-53cb7c73f347",
   "metadata": {},
   "outputs": [],
   "source": [
    "#W3A14\n",
    "a,b = map(float, input(\"nhap so thuc:\"))\n",
    "if a==0 and b!=0:\n",
    "    print(\"vo nghiem\")\n",
    "if a==0 and b==0:\n",
    "    print(\"vo so nghiem\")\n",
    "else:\n",
    "    x = -b/a\n",
    "    print(round(x, 2)) #in ra man hinh so co 2 so dang sau dau phay"
   ]
  },
  {
   "cell_type": "code",
   "execution_count": null,
   "id": "88330561-2f50-42e8-8c51-c8730f12f7c1",
   "metadata": {},
   "outputs": [],
   "source": [
    "#W3A15\n",
    "x = float(input(\"nhap diem trung binh:\"))\n",
    "if x>=8:\n",
    "    print(\"gioi\")\n",
    "elif x>=6.5:\n",
    "    print(\"kha\")\n",
    "elif x>=5:\n",
    "    print(\"trung binh\")\n",
    "else:\n",
    "    print(\"yeu\")"
   ]
  },
  {
   "cell_type": "code",
   "execution_count": null,
   "id": "16643488-40fa-4aad-83d2-32c0b079dd12",
   "metadata": {},
   "outputs": [],
   "source": [
    "#W3A16\n",
    "n = float(input(\"nhap so thuc:\"))\n",
    "a = n//1\n",
    "b = n//1 + 1\n",
    "if n - n//1 >=0.5:\n",
    "    c = n//1 + 1\n",
    "    print(a, b, c)\n",
    "else:\n",
    "    c = n//1\n",
    "    print(a, b, c)"
   ]
  },
  {
   "cell_type": "code",
   "execution_count": null,
   "id": "63198015-abad-4d0f-8c9e-9d9326642fe1",
   "metadata": {},
   "outputs": [],
   "source": [
    "#W3A17\n",
    "x = b/a\n",
    "y = c/b\n",
    "z = d/c\n",
    "if x - x//1 == 0 and y - y//1 == 0 and z - z//1 == 0 and x == y == z:\n",
    "    print(\"la cap so nhan\")\n",
    "else:\n",
    "    print(\"khong phai la cap so nhan\")"
   ]
  }
 ],
 "metadata": {
  "kernelspec": {
   "display_name": "Python 3 (ipykernel)",
   "language": "python",
   "name": "python3"
  },
  "language_info": {
   "codemirror_mode": {
    "name": "ipython",
    "version": 3
   },
   "file_extension": ".py",
   "mimetype": "text/x-python",
   "name": "python",
   "nbconvert_exporter": "python",
   "pygments_lexer": "ipython3",
   "version": "3.12.5"
  }
 },
 "nbformat": 4,
 "nbformat_minor": 5
}
