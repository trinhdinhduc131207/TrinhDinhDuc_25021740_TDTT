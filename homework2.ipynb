{
 "cells": [
  {
   "cell_type": "code",
   "execution_count": 4,
   "id": "eab73ee8-f632-49da-9739-7d8898487647",
   "metadata": {},
   "outputs": [
    {
     "name": "stdin",
     "output_type": "stream",
     "text": [
      "nhap hai canh cua hinh chu nhat: 2 3\n"
     ]
    },
    {
     "name": "stdout",
     "output_type": "stream",
     "text": [
      "chu vi: 10.0\n",
      "dien tich: 6.0\n"
     ]
    }
   ],
   "source": [
    "#bai1\n",
    "a,b = map(float, input('nhap hai canh cua hinh chu nhat:').split())\n",
    "C = 2*(a + b)\n",
    "S = a*b          \n",
    "print('chu vi:', C)\n",
    "print('dien tich:', S)"
   ]
  },
  {
   "cell_type": "code",
   "execution_count": 5,
   "id": "b6927e7c-e84d-4241-a76f-fd11a45487d9",
   "metadata": {},
   "outputs": [
    {
     "name": "stdin",
     "output_type": "stream",
     "text": [
      "nhap ban kinh hinh tron: 1 \n"
     ]
    },
    {
     "name": "stdout",
     "output_type": "stream",
     "text": [
      "dien tich: 3.14\n",
      "chu vi: 6.28\n"
     ]
    }
   ],
   "source": [
    "#bai2\n",
    "r = float(input('nhap ban kinh hinh tron:'))\n",
    "S = 3.14*(r**2)\n",
    "C = 3.14*2*r\n",
    "print('dien tich:', S)\n",
    "print('chu vi:', C)"
   ]
  },
  {
   "cell_type": "code",
   "execution_count": null,
   "id": "1fe83aad-fadd-409d-ad3a-3022b7e301bd",
   "metadata": {},
   "outputs": [],
   "source": [
    "2 3 4 "
   ]
  },
  {
   "cell_type": "code",
   "execution_count": 2,
   "id": "41baa405-771c-4afc-a7d7-f5ce14f4b7fd",
   "metadata": {},
   "outputs": [
    {
     "name": "stdin",
     "output_type": "stream",
     "text": [
      "nhap so nguyen duong: 6 6 6\n"
     ]
    },
    {
     "name": "stdout",
     "output_type": "stream",
     "text": [
      "dien tich: 15.588457268119894\n",
      "chu vi: 18.0\n",
      "tam giac deu\n"
     ]
    }
   ],
   "source": [
    "#bai3\n",
    "import math\n",
    "a,b,c = map(float, input(\"nhap so nguyen duong:\").split())\n",
    "if a+b>c and a+c>b and b+c>a:\n",
    "     if (a**2 == b**2 + c**2) or (b**2 == a**2 + c**2) or (c**2 == a**2 + b**2):\n",
    "         C = a + b + c\n",
    "         if a**2 == b**2 + c**2:\n",
    "             S = 0.5*b*c\n",
    "         elif b**2 == c**2 + a**2:\n",
    "             S = 0.5*c*a\n",
    "         else:\n",
    "             S = 0.5*a*b\n",
    "         print('dien tich:', S)\n",
    "         print('chu vi:', C)\n",
    "         print(\"tam giac vuong\")\n",
    "     elif a == b == c:\n",
    "         C = 3*a\n",
    "         S = ((math.sqrt(3))/4)*(a**2)\n",
    "         print('dien tich:', S)\n",
    "         print('chu vi:', C)\n",
    "         print(\"tam giac deu\")\n",
    "     elif a == b or b == c or c == a:\n",
    "         if a == b:\n",
    "             C = 2*a + c\n",
    "             S = 0.5*(math.sqrt((a**2) - 0.25*(c**2)))*c\n",
    "         elif a == c:\n",
    "             C = 2*a + b\n",
    "             S = 0.5*(math.sqrt((a**2) - 0.25*(b**2)))*b\n",
    "         elif b==c:\n",
    "             C = 2*c + a\n",
    "             S = 0.5*(math.sqrt((c**2) - 0.25*(a**2)))*a\n",
    "         print('dien tich:', S)\n",
    "         print('chu vi:', C)\n",
    "         print('tam giac can')\n",
    "     else:\n",
    "          C = a + b + c\n",
    "          S = math.sqrt(C*(C-a)*(C-b)*(C-c))\n",
    "          print('dien tich:', S)\n",
    "          print('chu vi:', C)\n",
    "          print(\"tam giac thuong\")\n",
    "else:\n",
    "    print(\"khong la ba canh cua tam giac\")"
   ]
  },
  {
   "cell_type": "code",
   "execution_count": 3,
   "id": "d284513a-90f2-4c40-8f10-d7dcd7ec2c4b",
   "metadata": {},
   "outputs": [
    {
     "name": "stdin",
     "output_type": "stream",
     "text": [
      " 1 2\n"
     ]
    },
    {
     "name": "stdout",
     "output_type": "stream",
     "text": [
      "-2.0\n"
     ]
    }
   ],
   "source": [
    "#bai4\n",
    "a,b = map(float, input().split())\n",
    "x = -b/a\n",
    "print(x)"
   ]
  },
  {
   "cell_type": "code",
   "execution_count": 6,
   "id": "9dcffe38-7f69-48b8-97a8-ae2e218e6ffd",
   "metadata": {},
   "outputs": [
    {
     "name": "stdin",
     "output_type": "stream",
     "text": [
      " 1 -2 1\n"
     ]
    },
    {
     "name": "stdout",
     "output_type": "stream",
     "text": [
      "1.0\n",
      "1.0\n"
     ]
    }
   ],
   "source": [
    "#bai5 \n",
    "import math\n",
    "a,b,c = map(float, input().split())\n",
    "x = b**2 - 4*a*c\n",
    "nghiem_1 = (-b + math.sqrt(x))/(2*a)\n",
    "nghiem_2 = (-b - math.sqrt(x))/(2*a)\n",
    "print(nghiem_1)\n",
    "print(nghiem_2)"
   ]
  },
  {
   "cell_type": "code",
   "execution_count": 11,
   "id": "833b3e46-6533-46ba-ac97-41ff367c023b",
   "metadata": {},
   "outputs": [
    {
     "name": "stdin",
     "output_type": "stream",
     "text": [
      "nhap 4 so tu ban phim: 1 6 23 4\n"
     ]
    },
    {
     "name": "stdout",
     "output_type": "stream",
     "text": [
      "gia tri lon nhat: 23.0\n"
     ]
    }
   ],
   "source": [
    "#bai6\n",
    "A = []\n",
    "a,b,c,d = map(float, input('nhap 4 so tu ban phim:').split())\n",
    "A.extend([a,b,c,d])\n",
    "for i in range (0,3):\n",
    "    if A[i] < A[i+1]:\n",
    "                A[i],A[i+1] = A[i],A[i+1]\n",
    "    else:\n",
    "                A[i],A[i+1] = A[i+1],A[i]\n",
    "print('gia tri lon nhat:', A[3])"
   ]
  },
  {
   "cell_type": "code",
   "execution_count": 12,
   "id": "880819d5-61a2-4bd4-b63c-4a2d869a9d6c",
   "metadata": {},
   "outputs": [
    {
     "name": "stdin",
     "output_type": "stream",
     "text": [
      "nhap 4 so tu ban phim: 1 2 3 4\n"
     ]
    },
    {
     "name": "stdout",
     "output_type": "stream",
     "text": [
      "gia tri nho nhat: 1.0\n"
     ]
    }
   ],
   "source": [
    "#bai7\n",
    "A = []\n",
    "a,b,c,d = map(float, input('nhap 4 so tu ban phim:').split())\n",
    "A.extend([a,b,c,d])\n",
    "for i in range (0,3):\n",
    "    if A[i] > A[i+1]:\n",
    "                A[i],A[i+1] = A[i],A[i+1]\n",
    "    else:\n",
    "                A[i],A[i+1] = A[i+1],A[i]\n",
    "print('gia tri nho nhat:', A[3])"
   ]
  },
  {
   "cell_type": "code",
   "execution_count": null,
   "id": "6bf7d1f5-3b68-44b2-a820-eb6235f2c845",
   "metadata": {
    "scrolled": true
   },
   "outputs": [],
   "source": [
    "#bai8\n",
    "a,b,m = map(float, input('nhap he so phuong trinh 1:').split())\n",
    "c,d,n = map(float, input('nhap he so phuong trinh 2:').split())\n",
    "t = float\n",
    "if (a*d - b*c) == 0 and (d*m - b*n)!=0 and (c*m - a*n)!=0:\n",
    "    print('phuonng trinh vo nghiem')\n",
    "elif b*c == a*d and m == n :\n",
    "    print('phuong trinh vo so nghiem')\n",
    "else :\n",
    "    x = (d*m - b*n)/(a*d - b*c)\n",
    "    y = (c*m - a*n)/(b*c - a*d)\n",
    "    print(x)\n",
    "    print(y)"
   ]
  },
  {
   "cell_type": "code",
   "execution_count": 14,
   "id": "92e4ed92-5850-4619-88f9-c2236790aae5",
   "metadata": {},
   "outputs": [
    {
     "name": "stdin",
     "output_type": "stream",
     "text": [
      "nhap thoi gian bang so giay: 3601\n"
     ]
    },
    {
     "name": "stdout",
     "output_type": "stream",
     "text": [
      "1.0 gio 0 phut 1.0 giay\n"
     ]
    }
   ],
   "source": [
    "#bai9\n",
    "x  = float(input('nhap thoi gian bang so giay:'))\n",
    "if x//3600 >= 1 :\n",
    "          h =  x//3600\n",
    "else:\n",
    "          h = 0\n",
    "a = (x/3600 - x//3600)*60\n",
    "if a//60 >= 1:\n",
    "    p = a//60\n",
    "else :\n",
    "    p = 0\n",
    "s = x - h*3600 - p*60\n",
    "print(h, 'gio', p, 'phut', s, 'giay')\n",
    "\n",
    "    "
   ]
  },
  {
   "cell_type": "code",
   "execution_count": 17,
   "id": "60f1adb8-022f-4a9c-93f7-4a3108525566",
   "metadata": {},
   "outputs": [
    {
     "name": "stdin",
     "output_type": "stream",
     "text": [
      "nhap tam duong tron: 0 0\n",
      "nhap diem bat ki: 3 0 \n",
      "nhap ban kinh duongn tron: 3\n"
     ]
    },
    {
     "name": "stdout",
     "output_type": "stream",
     "text": [
      "diem A thuoc duong tron\n"
     ]
    }
   ],
   "source": [
    "#bai10\n",
    "a,b = map(float, input('nhap tam duong tron:').split())\n",
    "x,y = map(float, input('nhap diem bat ki:').split())\n",
    "r = float(input('nhap ban kinh duongn tron:'))\n",
    "if (x - a)**2 + (y - b)**2 == r**2:\n",
    "    print('diem A thuoc duong tron')\n",
    "else :\n",
    "    print('diem A khong thuoc duong tron')\n"
   ]
  },
  {
   "cell_type": "code",
   "execution_count": 21,
   "id": "97a6b60f-4683-40e9-9210-de75d4da6373",
   "metadata": {},
   "outputs": [
    {
     "name": "stdin",
     "output_type": "stream",
     "text": [
      "nahp so thuc: 2 2.5\n"
     ]
    },
    {
     "name": "stdout",
     "output_type": "stream",
     "text": [
      "5.656854249492381\n"
     ]
    }
   ],
   "source": [
    "#bai11\n",
    "x,y = map(float, input('nahp so thuc:').split())\n",
    "s = x**y\n",
    "print(s)"
   ]
  },
  {
   "cell_type": "code",
   "execution_count": null,
   "id": "5b87c7be-ba56-480d-b75f-7941a06974d3",
   "metadata": {},
   "outputs": [],
   "source": []
  }
 ],
 "metadata": {
  "kernelspec": {
   "display_name": "Python 3 (ipykernel)",
   "language": "python",
   "name": "python3"
  },
  "language_info": {
   "codemirror_mode": {
    "name": "ipython",
    "version": 3
   },
   "file_extension": ".py",
   "mimetype": "text/x-python",
   "name": "python",
   "nbconvert_exporter": "python",
   "pygments_lexer": "ipython3",
   "version": "3.12.5"
  }
 },
 "nbformat": 4,
 "nbformat_minor": 5
}
