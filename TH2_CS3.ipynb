{
 "cells": [
  {
   "cell_type": "code",
   "execution_count": null,
   "id": "1a96a46a-bb57-4b26-9f23-6109b5e17564",
   "metadata": {},
   "outputs": [
    {
     "name": "stdout",
     "output_type": "stream",
     "text": [
      "Hello World!\n"
     ]
    }
   ],
   "source": [
    "#W2A1\n",
    "print('Hello World!')"
   ]
  },
  {
   "cell_type": "code",
   "execution_count": null,
   "id": "24fad98f-69b4-4520-9b9e-b52e67792db1",
   "metadata": {},
   "outputs": [
    {
     "name": "stdout",
     "output_type": "stream",
     "text": [
      " Name\n"
     ]
    },
    {
     "name": "stdout",
     "output_type": "stream",
     "text": [
      "Name\n"
     ]
    }
   ],
   "source": [
    "#W2A2\n",
    "name=input()\n",
    "print(name)"
   ]
  },
  {
   "cell_type": "code",
   "execution_count": null,
   "id": "fd09ee7d-16dc-4df0-9d65-1291c4559b3e",
   "metadata": {},
   "outputs": [
    {
     "name": "stdout",
     "output_type": "stream",
     "text": [
      " 2 3\n"
     ]
    },
    {
     "name": "stdout",
     "output_type": "stream",
     "text": [
      "2+3=5\n",
      "2-3=-1\n",
      "2*3=6\n",
      "2/3=0.67\n",
      "2//3=0\n",
      "2%3=2\n"
     ]
    }
   ],
   "source": [
    "#W2A3\n",
    "a, b=map(int, input().split())\n",
    "print(f'{a}+{b}={a+b}')\n",
    "print(f'{a}-{b}={a-b}')\n",
    "print(f'{a}*{b}={a*b}')\n",
    "print(f'{a}/{b}={a/b:.2f}')\n",
    "print(f'{a}//{b}={a//b}')\n",
    "print(f'{a}%{b}={a%b}')"
   ]
  },
  {
   "cell_type": "code",
   "execution_count": null,
   "id": "d1c1682c-be42-465d-b0b5-a32e1a392f29",
   "metadata": {},
   "outputs": [
    {
     "name": "stdout",
     "output_type": "stream",
     "text": [
      " 9 9 9 10 9 7\n"
     ]
    },
    {
     "name": "stdout",
     "output_type": "stream",
     "text": [
      "8.6\n"
     ]
    }
   ],
   "source": [
    "#W2A4\n",
    "a1,b1,c1,a2,b2,a3 = map(int, input().split())\n",
    "print((a1+b1+c1+2*(a2+b2)+3*a3)/10)"
   ]
  },
  {
   "cell_type": "code",
   "execution_count": null,
   "id": "f63b54b0-7b64-4571-9256-d98da6b8e03c",
   "metadata": {},
   "outputs": [
    {
     "name": "stdout",
     "output_type": "stream",
     "text": [
      " 6 9\n"
     ]
    },
    {
     "name": "stdout",
     "output_type": "stream",
     "text": [
      "6**9=10077696\n"
     ]
    }
   ],
   "source": [
    "#W2A5\n",
    "a,b=map(int, input().split())\n",
    "print(f'{a}**{b}={a**b}')"
   ]
  },
  {
   "cell_type": "code",
   "execution_count": null,
   "id": "1aa3e298-a8da-4dc6-9fd3-616b404488d6",
   "metadata": {},
   "outputs": [
    {
     "name": "stdout",
     "output_type": "stream",
     "text": [
      " a\n"
     ]
    },
    {
     "name": "stdout",
     "output_type": "stream",
     "text": [
      "97\n",
      "A\n"
     ]
    }
   ],
   "source": [
    "#W2A6\n",
    "a=input()\n",
    "print(ord(a))\n",
    "print(chr(ord(a)-32))"
   ]
  },
  {
   "cell_type": "code",
   "execution_count": null,
   "id": "506a4659-173f-4756-9e36-4eb724c69179",
   "metadata": {},
   "outputs": [
    {
     "name": "stdout",
     "output_type": "stream",
     "text": [
      "((13 **2) *3) + 5= 512\n",
      "13**2*3 + 5= 512\n"
     ]
    }
   ],
   "source": [
    "#W2A7\n",
    "print('((13 **2) *3) + 5=',((13 **2) *3) + 5)\n",
    "print('13**2*3 + 5=',13**2*3 + 5)"
   ]
  },
  {
   "cell_type": "code",
   "execution_count": null,
   "id": "9c9c389f-7fd4-4029-b381-5625cb487e20",
   "metadata": {},
   "outputs": [
    {
     "name": "stdout",
     "output_type": "stream",
     "text": [
      " -40\n"
     ]
    },
    {
     "name": "stdout",
     "output_type": "stream",
     "text": [
      "-40.00\n"
     ]
    }
   ],
   "source": [
    "#W2A8\n",
    "a=float(input())\n",
    "print(f'{a*9/5+32:.2f}')"
   ]
  },
  {
   "cell_type": "code",
   "execution_count": null,
   "id": "86801462-3c5f-49cd-8187-f76e334dc2c7",
   "metadata": {},
   "outputs": [
    {
     "name": "stdout",
     "output_type": "stream",
     "text": [
      " 3\n"
     ]
    },
    {
     "name": "stdout",
     "output_type": "stream",
     "text": [
      "14.20\n"
     ]
    }
   ],
   "source": [
    "#W2A9\n",
    "a=float(input())\n",
    "print(f'{a+10+0.3*a+0.1*a:.2f}')"
   ]
  },
  {
   "cell_type": "code",
   "execution_count": null,
   "id": "c975d5e7-fa1d-4cb5-98a6-df690f631cbd",
   "metadata": {},
   "outputs": [
    {
     "name": "stdout",
     "output_type": "stream",
     "text": [
      " a b c\n"
     ]
    },
    {
     "name": "stdout",
     "output_type": "stream",
     "text": [
      "Hi c, b and a.\n"
     ]
    }
   ],
   "source": [
    "#W2A10\n",
    "a,b,c=input().split()\n",
    "print(\"Hi \", c,\", \",b,\" and \",a,\".\",sep='')"
   ]
  },
  {
   "cell_type": "code",
   "execution_count": null,
   "id": "59801943-de5d-4831-8262-199852f3c077",
   "metadata": {},
   "outputs": [
    {
     "name": "stdout",
     "output_type": "stream",
     "text": [
      " 3 4\n"
     ]
    },
    {
     "name": "stdout",
     "output_type": "stream",
     "text": [
      "11040\n"
     ]
    }
   ],
   "source": [
    "#W2A11\n",
    "h,m=map(int,input().split())\n",
    "print(3600*h+60*m)"
   ]
  },
  {
   "cell_type": "code",
   "execution_count": null,
   "id": "8e1c1928-8e84-4051-96fd-fb2f8c290b0d",
   "metadata": {},
   "outputs": [
    {
     "name": "stdout",
     "output_type": "stream",
     "text": [
      " 3\n"
     ]
    },
    {
     "name": "stdout",
     "output_type": "stream",
     "text": [
      "54\n"
     ]
    }
   ],
   "source": [
    "#W2A12\n",
    "a=int(input())\n",
    "print(a*a*6)"
   ]
  },
  {
   "cell_type": "code",
   "execution_count": null,
   "id": "73e06458-3c7c-44a7-acd9-293585fb88e9",
   "metadata": {},
   "outputs": [
    {
     "name": "stdout",
     "output_type": "stream",
     "text": [
      " 3 4\n"
     ]
    },
    {
     "name": "stdout",
     "output_type": "stream",
     "text": [
      "2\n"
     ]
    }
   ],
   "source": [
    "#W2A13\n",
    "a,b = map(int, input().split())\n",
    "print(f'{(a*b)%10}')"
   ]
  },
  {
   "cell_type": "code",
   "execution_count": null,
   "id": "deba79ac-3cd9-40c9-8655-ba0d5cf2be34",
   "metadata": {},
   "outputs": [
    {
     "name": "stdout",
     "output_type": "stream",
     "text": [
      " 2 3\n"
     ]
    },
    {
     "name": "stdout",
     "output_type": "stream",
     "text": [
      "3 2\n"
     ]
    }
   ],
   "source": [
    "#W2A14\n",
    "a, b= map(int, input().split())\n",
    "a += b\n",
    "b = a - b\n",
    "a -= b\n",
    "print(a,b)"
   ]
  },
  {
   "cell_type": "code",
   "execution_count": null,
   "id": "42210331-d267-4feb-a679-54333dabc68b",
   "metadata": {},
   "outputs": [
    {
     "name": "stdout",
     "output_type": "stream",
     "text": [
      " 2\n"
     ]
    },
    {
     "name": "stdout",
     "output_type": "stream",
     "text": [
      "13\n"
     ]
    }
   ],
   "source": [
    "#W2A15\n",
    "a=int(input())\n",
    "print((6*a)*(a-1)+1)"
   ]
  },
  {
   "cell_type": "code",
   "execution_count": null,
   "id": "90729cc7-c931-4559-b0bd-93b446b10a4f",
   "metadata": {},
   "outputs": [
    {
     "name": "stdout",
     "output_type": "stream",
     "text": [
      "Spring\n",
      "Summer\n",
      "Autumn\n",
      "Winter\n"
     ]
    }
   ],
   "source": [
    "#W2A16\n",
    "print(\"Spring\\nSummer\\nAutumn\\nWinter\")"
   ]
  },
  {
   "cell_type": "code",
   "execution_count": null,
   "id": "f30cf12a-0c83-46f1-80f6-c2c776c87f56",
   "metadata": {},
   "outputs": [
    {
     "name": "stdout",
     "output_type": "stream",
     "text": [
      "*\n",
      "**\n",
      "***\n"
     ]
    }
   ],
   "source": [
    "#W2A17\n",
    "print(\"*\\n**\\n***\")"
   ]
  },
  {
   "cell_type": "code",
   "execution_count": null,
   "id": "e42893f5-0c18-419d-aa5b-41a284c7041f",
   "metadata": {},
   "outputs": [
    {
     "name": "stdout",
     "output_type": "stream",
     "text": [
      "### ##  ### ###\n",
      " #  # #  #   #\n",
      " #  #  # #   #\n",
      " #  # #  #   #\n",
      " #  ##   #   #\n"
     ]
    }
   ],
   "source": [
    "#W2A18\n",
    "print('''\n",
    "### # #    ### ###\n",
    " #  #   #   #   #\n",
    " #  #    #  #   # \n",
    " #  #   #   #   #\n",
    " #  # #     #   #''')"
   ]
  },
  {
   "cell_type": "code",
   "execution_count": null,
   "id": "3eb88f6c-06f9-40ab-8469-f08bedcec0b4",
   "metadata": {},
   "outputs": [
    {
     "name": "stdout",
     "output_type": "stream",
     "text": [
      "Monday\n",
      "Tuesday\n",
      "Wednesday\n",
      "Thursday\n",
      "Friday\n",
      "Saturday\n",
      "Sunday\n"
     ]
    }
   ],
   "source": [
    "#W2A19\n",
    "print('Monday\\nTuesday\\nWednesday\\nThursday\\nFriday\\nSaturday\\nSunday')\n"
   ]
  },
  {
   "cell_type": "code",
   "execution_count": null,
   "id": "ae311167-4acd-4fdb-8ea4-e0db0698d127",
   "metadata": {},
   "outputs": [
    {
     "name": "stdout",
     "output_type": "stream",
     "text": [
      "January\n",
      "February\n",
      "March\n",
      "April\n",
      "May\n",
      "June\n",
      "July\n",
      "August\n",
      "September\n",
      "October\n",
      "November\n",
      "December\n"
     ]
    }
   ],
   "source": [
    "#W2A20\n",
    "print('January\\nFebruary\\nMarch\\nApril\\nMay\\nJune\\nJuly\\nAugust\\nSeptember\\nOctober\\nNovember\\nDecember')"
   ]
  },
  {
   "cell_type": "code",
   "execution_count": null,
   "id": "c504fd87-06be-4e64-8a2c-5ca2b674ac19",
   "metadata": {},
   "outputs": [
    {
     "name": "stdout",
     "output_type": "stream",
     "text": [
      "Hello, World!\n",
      "Hello, World!\n",
      "Hello, World!\n",
      "Hello, World!\n",
      "Hello, World!\n",
      "Hello, World!\n",
      "Hello, World!\n",
      "Hello, World!\n",
      "Hello, World!\n",
      "Hello, World!\n"
     ]
    }
   ],
   "source": [
    "#W2A21\n",
    "for a in range(10):\n",
    "    print('Hello, World!')"
   ]
  },
  {
   "cell_type": "code",
   "execution_count": null,
   "id": "ed6dbb27-a73d-4197-9f32-5b29b6df19d3",
   "metadata": {},
   "outputs": [],
   "source": [
    "print ('''\n",
    "hello world\n",
    "hello world\n",
    "hello world\n",
    "hello world''')"
   ]
  }
 ],
 "metadata": {
  "kernelspec": {
   "display_name": "Python 3 (ipykernel)",
   "language": "python",
   "name": "python3"
  },
  "language_info": {
   "codemirror_mode": {
    "name": "ipython",
    "version": 3
   },
   "file_extension": ".py",
   "mimetype": "text/x-python",
   "name": "python",
   "nbconvert_exporter": "python",
   "pygments_lexer": "ipython3",
   "version": "3.12.5"
  }
 },
 "nbformat": 4,
 "nbformat_minor": 5
}
